{
 "cells": [
  {
   "cell_type": "code",
   "execution_count": 3,
   "metadata": {},
   "outputs": [],
   "source": [
    "import pandas as pd\n",
    "import numpy as np"
   ]
  },
  {
   "cell_type": "code",
   "execution_count": 4,
   "metadata": {},
   "outputs": [],
   "source": [
    "jivot = [1,2,3,4]"
   ]
  },
  {
   "cell_type": "code",
   "execution_count": 5,
   "metadata": {},
   "outputs": [],
   "source": [
    "jivot_np = np.array(jivot)"
   ]
  },
  {
   "cell_type": "code",
   "execution_count": 6,
   "metadata": {},
   "outputs": [
    {
     "data": {
      "text/plain": [
       "array([1, 2, 3, 4])"
      ]
     },
     "execution_count": 6,
     "metadata": {},
     "output_type": "execute_result"
    }
   ],
   "source": [
    "jivot_np"
   ]
  },
  {
   "cell_type": "code",
   "execution_count": null,
   "metadata": {},
   "outputs": [],
   "source": [
    "### график успеваемости по курсам \n",
    "asp4.head(1)\n",
    "# предположим, что DataFrame называется asp\n",
    "# группируем данные по столбцу course и считаем среднюю оценку\n",
    "course_performance = asp4.groupby('course')['marks'].mean()\n",
    "\n",
    "asp4['course'].value_counts()\n",
    "course_performance\n",
    "\n",
    "# строим столбчатый график успеваемости по курсам\n",
    "plt.figure(figsize=(10, 6))\n",
    "course_performance.plot(kind='bar', color='skyblue', edgecolor='black')\n",
    "plt.title('Успеваемость по курсам')\n",
    "plt.xlabel('Курс')\n",
    "plt.ylabel('Средняя оценка')\n",
    "plt.xticks(rotation=45)\n",
    "plt.grid(axis='y', linestyle='--', alpha=0.7)\n",
    "plt.show()"
   ]
  },
  {
   "cell_type": "code",
   "execution_count": null,
   "metadata": {},
   "outputs": [],
   "source": [
    "### средний возраст\n",
    "asp.head(1)\n",
    "\n",
    "insititue_performance = asp.groupby('institue')['marks'].mean()\n",
    "insititue_performance\n",
    "plt.subplots_adjust(bottom=0.11)\n",
    "plt.figure(figsize=(10, 6))\n",
    "insititue_performance.plot(kind='bar',color = 'skyblue', edgecolor='black')\n",
    "plt.title('Успеваемость по предметам')\n",
    "plt.xlabel('Курс')\n",
    "plt.ylabel('Средняя оценка')\n",
    "plt.xticks(rotation=70,fontsize= 8)\n",
    "plt.grid(axis='y', linestyle='--', alpha=0.7)\n",
    "\n",
    "\n",
    "\n",
    "plt.show()\n",
    "### успеваемость по возрастным категориям"
   ]
  }
 ],
 "metadata": {
  "kernelspec": {
   "display_name": "Python 3",
   "language": "python",
   "name": "python3"
  },
  "language_info": {
   "codemirror_mode": {
    "name": "ipython",
    "version": 3
   },
   "file_extension": ".py",
   "mimetype": "text/x-python",
   "name": "python",
   "nbconvert_exporter": "python",
   "pygments_lexer": "ipython3",
   "version": "3.12.7"
  }
 },
 "nbformat": 4,
 "nbformat_minor": 2
}
